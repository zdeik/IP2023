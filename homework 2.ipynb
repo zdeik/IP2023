{
 "cells": [
  {
   "cell_type": "code",
   "execution_count": 4,
   "metadata": {},
   "outputs": [],
   "source": [
    "import cv2\n",
    "import numpy as np\n",
    "\n",
    "def nothing(x):\n",
    "    pass\n",
    "\n",
    "cap = cv2.VideoCapture(0)\n",
    "cv2.namedWindow(\"Trackbar\")\n",
    "\n",
    "cv2.createTrackbar(\"L - H\", \"Trackbar\", 0, 179, nothing)\n",
    "cv2.createTrackbar(\"L - S\", \"Trackbar\", 0, 255, nothing)\n",
    "cv2.createTrackbar(\"L - V\", \"Trackbar\", 0, 255, nothing)\n",
    "cv2.createTrackbar(\"U - H\", \"Trackbar\", 179, 179, nothing)\n",
    "cv2.createTrackbar(\"U - S\", \"Trackbar\", 255, 255, nothing)\n",
    "cv2.createTrackbar(\"U - V\", \"Trackbar\", 255, 255, nothing)\n",
    "\n",
    "while True:\n",
    "    _, frame = cap.read()\n",
    "\n",
    "    l_h = cv2.getTrackbarPos(\"L - H\", \"Trackbar\")\n",
    "    l_s = cv2.getTrackbarPos(\"L - S\", \"Trackbar\")\n",
    "    l_v = cv2.getTrackbarPos(\"L - V\", \"Trackbar\")\n",
    "    u_h = cv2.getTrackbarPos(\"U - H\", \"Trackbar\")\n",
    "    u_s = cv2.getTrackbarPos(\"U - S\", \"Trackbar\")\n",
    "    u_v = cv2.getTrackbarPos(\"U - V\", \"Trackbar\")\n",
    "\n",
    "    hsv = cv2.cvtColor(frame, cv2.COLOR_BGR2HSV)\n",
    "    lower_blue = np.array([l_h, l_s, l_v])\n",
    "    upper_blue = np.array([u_h, u_s, u_v])\n",
    "    mask = cv2.inRange(hsv, lower_blue, upper_blue)\n",
    "    result = cv2.bitwise_and(frame, frame, mask = mask)\n",
    "\n",
    "    cv2.imshow(\"frame\", frame)\n",
    "    cv2.imshow(\"mask\", mask)\n",
    "    cv2.imshow(\"result\", result)\n",
    "\n",
    "    key = cv2.waitKey(1)\n",
    "    if key == 27:\n",
    "        break\n",
    "\n",
    "cap.release()\n",
    "cv2.destroyAllWindows()"
   ]
  }
 ],
 "metadata": {
  "kernelspec": {
   "display_name": "IP2023",
   "language": "python",
   "name": "python3"
  },
  "language_info": {
   "codemirror_mode": {
    "name": "ipython",
    "version": 3
   },
   "file_extension": ".py",
   "mimetype": "text/x-python",
   "name": "python",
   "nbconvert_exporter": "python",
   "pygments_lexer": "ipython3",
   "version": "3.8.18"
  },
  "orig_nbformat": 4
 },
 "nbformat": 4,
 "nbformat_minor": 2
}

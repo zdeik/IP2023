{
 "cells": [
  {
   "cell_type": "code",
   "execution_count": 1,
   "metadata": {},
   "outputs": [],
   "source": [
    "import cv2\n",
    "import numpy as np\n",
    "from matplotlib import pyplot as plt\n",
    "import os\n",
    "cap = cv2.VideoCapture(\"tracking1.avi\")\n",
    "while(cap.isOpened()):\n",
    "# Take each frame\n",
    "    res, frame = cap.read()\n",
    "# Convert BGR to HSV\n",
    "    if res==False:\n",
    "        break\n",
    "    hsv = cv2.cvtColor(frame, cv2.COLOR_BGR2HSV)\n",
    "# define range of blue color in HSV\n",
    "    lower_blue = np.array([175,175,0])#bgr\n",
    "    upper_blue = np.array([250,250,255])\n",
    "# Threshold the HSV image to get only blue colors\n",
    "    mask = cv2.inRange(hsv, lower_blue, upper_blue)\n",
    "\n",
    "    res = cv2.bitwise_and(frame,frame, mask= mask)\n",
    "    \n",
    "# Bitwise-AND mask and original image\n",
    "    M = cv2.moments(mask)  # calculate moments of binary image\n",
    "    X = int(M[\"m10\"] / M[\"m00\"])  # calculate x coordinate of centroid\n",
    "    Y = int(M[\"m01\"] / M[\"m00\"]) \n",
    "    \n",
    "    cv2.circle(frame, (X,Y), 5, (0, 0, 255), -1)\n",
    "    \n",
    "    cv2.imshow('frame',frame)\n",
    "    cv2.imshow('mask',mask)\n",
    "    cv2.imshow('res',res)\n",
    "    k = cv2.waitKey(25) & 0xFF\n",
    "    if k == 27:\n",
    "        break\n",
    "\n",
    "cv2.destroyAllWindows()"
   ]
  }
 ],
 "metadata": {
  "kernelspec": {
   "display_name": "IP2023",
   "language": "python",
   "name": "python3"
  },
  "language_info": {
   "codemirror_mode": {
    "name": "ipython",
    "version": 3
   },
   "file_extension": ".py",
   "mimetype": "text/x-python",
   "name": "python",
   "nbconvert_exporter": "python",
   "pygments_lexer": "ipython3",
   "version": "3.8.18"
  },
  "orig_nbformat": 4
 },
 "nbformat": 4,
 "nbformat_minor": 2
}

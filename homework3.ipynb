{
 "cells": [
  {
   "cell_type": "code",
   "execution_count": 7,
   "metadata": {},
   "outputs": [],
   "source": [
    "import cv2\n",
    "import numpy as np\n",
    "\n",
    "win_name = \"scanning\"\n",
    "img = cv2.imread(\"dsu3.jpg\")\n",
    "rows, cols = img.shape[:2]\n",
    "draw = img.copy()\n",
    "pts_cnt = 0\n",
    "pts = np.zeros((4, 2), dtype=np.float32)\n",
    "\n",
    "def onMouse(event, x, y, flags, param):\n",
    "    global pts_cnt\n",
    "    if event == cv2.EVENT_LBUTTONDOWN:\n",
    "        # 좌표에 초록색 동그라미 표시\n",
    "        cv2.circle(draw, (x, y), 5, (0, 255, 0), -1)\n",
    "        cv2.imshow(win_name, draw)\n",
    "\n",
    "        # 마우스 좌표 저장\n",
    "        pts[pts_cnt] = [int(x), int(y)]\n",
    "        pts_cnt += 1\n",
    "        if pts_cnt == 4:\n",
    "            # 좌표 4개 중 상하좌우 찾기\n",
    "            sm = pts.sum(axis=1)  # 4쌍의 좌표 각각 x+y 계산\n",
    "            diff = np.diff(pts, axis=1)  # 4쌍의 좌표 각각 x-y 계산\n",
    "\n",
    "            topLeft = pts[np.argmin(sm)]  # x+y가 가장 값이 좌상단 좌표\n",
    "            bottomRight = pts[np.argmax(sm)]  # x+y가 가장 큰 값이 우하단 좌표\n",
    "            topRight = pts[np.argmin(diff)]  # x-y가 가장 작은 것이 우상단 좌표\n",
    "            bottomLeft = pts[np.argmax(diff)]  # x-y가 가장 큰 값이 좌하단 좌표\n",
    "\n",
    "            # 변환 전 4개 좌표 \n",
    "            pts1 = np.float32([topLeft, topRight, bottomRight, bottomLeft])\n",
    "\n",
    "            # 변환 후 영상에 사용할 서류의 폭과 높이 계산\n",
    "            w1 = abs(bottomRight[0] - bottomLeft[0])\n",
    "            w2 = abs(topRight[0] - topLeft[0])\n",
    "            h1 = abs(topRight[1] - bottomRight[1])\n",
    "            h2 = abs(topLeft[1] - bottomLeft[1])\n",
    "            width = int(max([w1, w2]))  # 두 좌우 거리간의 최대값이 서류의 폭\n",
    "            height = int(max([h1, h2]))  # 두 상하 거리간의 최대값이 서류의 높이\n",
    "\n",
    "            # 변환 후 4개 좌표\n",
    "            pts2 = np.float32([[0, 0], [width - 1, 0],\n",
    "                               [width - 1, height - 1], [0, height - 1]])\n",
    "\n",
    "            # 변환 행렬 계산 \n",
    "            mtrx = cv2.getPerspectiveTransform(pts1, pts2)\n",
    "            # 원근 변환 적용\n",
    "            result = cv2.warpPerspective(img, mtrx, (width, height))\n",
    "            cv2.imshow('scanned', result)\n",
    "\n",
    "cv2.imshow(win_name, img)\n",
    "cv2.setMouseCallback(win_name, onMouse)\n",
    "cv2.waitKey(0)\n",
    "cv2.destroyAllWindows()"
   ]
  }
 ],
 "metadata": {
  "kernelspec": {
   "display_name": "IP2023",
   "language": "python",
   "name": "python3"
  },
  "language_info": {
   "codemirror_mode": {
    "name": "ipython",
    "version": 3
   },
   "file_extension": ".py",
   "mimetype": "text/x-python",
   "name": "python",
   "nbconvert_exporter": "python",
   "pygments_lexer": "ipython3",
   "version": "3.8.18"
  },
  "orig_nbformat": 4
 },
 "nbformat": 4,
 "nbformat_minor": 2
}

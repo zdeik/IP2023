{
 "cells": [
  {
   "cell_type": "code",
   "execution_count": 1,
   "metadata": {},
   "outputs": [],
   "source": [
    "import numpy as np\n",
    "import cv2\n",
    "from matplotlib import pyplot as plt\n",
    "#img1 = cv2.imread(\"monitoring_720p.avi.png\", cv2.IMREAD_GRAYSCALE)\n",
    "img1 = cv2.imread(\"monitoring_720p.png\", cv2.IMREAD_GRAYSCALE)\n",
    "cap = cv2.VideoCapture(\"monitoring_720p.avi\")\n",
    "while(True):\n",
    "    ret, frame = cap.read()\n",
    "    gray = cv2.cvtColor(frame, cv2.COLOR_BGR2GRAY)\n",
    "\n",
    "    # ORB Detector\n",
    "    orb = cv2.ORB_create()\n",
    "    kp1, des1 = orb.detectAndCompute(img1, None)\n",
    "    kp2, des2 = orb.detectAndCompute(frame, None)\n",
    "\n",
    "    # Brute Force Matching\n",
    "    bf = cv2.BFMatcher(cv2.NORM_HAMMING, crossCheck=True)\n",
    "    matches = bf.match(des1, des2)\n",
    "    matches = sorted(matches, key = lambda x:x.distance)\n",
    "\n",
    "    matching_result = cv2.drawMatches(img1, kp1, frame, kp2, matches[:50], None, flags=2)\n",
    "    \n",
    "    matching_result = cv2.resize(matching_result, (int(matching_result.shape[1] / 2), int(matching_result.shape[0] / 2)))\n",
    "\n",
    "    cv2.imshow(\"Img1\", img1)\n",
    "    cv2.imshow(\"Frame\", frame)\n",
    "    cv2.imshow(\"Matching result\", matching_result)\n",
    "\n",
    "    if cv2.waitKey(1) & 0xFF == ord('q'):\n",
    "        break\n",
    "\n",
    "cap.release()\n",
    "cv2.destroyAllWindows()"
   ]
  }
 ],
 "metadata": {
  "kernelspec": {
   "display_name": "IP2023",
   "language": "python",
   "name": "python3"
  },
  "language_info": {
   "codemirror_mode": {
    "name": "ipython",
    "version": 3
   },
   "file_extension": ".py",
   "mimetype": "text/x-python",
   "name": "python",
   "nbconvert_exporter": "python",
   "pygments_lexer": "ipython3",
   "version": "3.8.18"
  }
 },
 "nbformat": 4,
 "nbformat_minor": 2
}
